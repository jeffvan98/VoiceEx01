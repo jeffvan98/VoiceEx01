{
 "cells": [
  {
   "cell_type": "code",
   "execution_count": null,
   "id": "4cbe67a3",
   "metadata": {},
   "outputs": [],
   "source": [
    "# \n",
    "# This Notebook requires the following environment variables (.env file):\n",
    "# \n",
    "\n",
    "# CLEAN_AUDIO_LOCAL_WORKING_DIR=TODO\n",
    "# CLEAN_AUDIO_INPUT_CONTAINER_SAS_URI=TODO\n",
    "# CLEAN_AUDIO_OUTPUT_CONTAINER_SAS_URI=TODO"
   ]
  },
  {
   "cell_type": "code",
   "execution_count": null,
   "id": "4171e138",
   "metadata": {},
   "outputs": [],
   "source": [
    "import os\n",
    "import shutil\n",
    "import subprocess\n",
    "from dotenv import load_dotenv\n",
    "from utils import get_container_client_from_sas, download_blobs, upload_files\n",
    "\n",
    "#\n",
    "# Main\n",
    "#\n",
    "\n",
    "load_dotenv()\n",
    "\n",
    "LOCAL_WORKING_DIR = os.getenv(\"CLEAN_AUDIO_LOCAL_WORKING_DIR\")\n",
    "INPUT_CONTAINER_SAS_URI = os.getenv(\"CLEAN_AUDIO_INPUT_CONTAINER_SAS_URI\")\n",
    "OUTPUT_CONTAINER_SAS_URI = os.getenv(\"CLEAN_AUDIO_OUTPUT_CONTAINER_SAS_URI\")\n",
    "\n",
    "print(\"Starting clean audio process...\")\n",
    "\n",
    "input_folder = os.path.join(\"LOCAL_WORKING_DIR\", \"clean-audio-input\")\n",
    "output_folder = os.path.join(\"LOCAL_WORKING_DIR\", \"clean-audio-output\")\n",
    "\n",
    "os.makedirs(input_folder, exist_ok=True)\n",
    "os.makedirs(output_folder, exist_ok=True)\n",
    "\n",
    "input_container_client = get_container_client_from_sas(INPUT_CONTAINER_SAS_URI)\n",
    "output_container_client = get_container_client_from_sas(OUTPUT_CONTAINER_SAS_URI)\n",
    "\n",
    "print(\"Downloading blobs from input container...\")\n",
    "audio_files = download_blobs(input_container_client, local_folder=input_folder, suffix=\".mp3\")\n",
    "\n",
    "print(f\"Convert {len(audio_files)} audio files to clean audio...\")\n",
    "\n",
    "clean_files = []\n",
    "for audio_file in audio_files:\n",
    "    subprocess.run([\n",
    "        \"demucs\",\n",
    "        \"--two-stems\", \"vocals\",\n",
    "        \"--out\", output_folder,\n",
    "        audio_file.local_path\n",
    "    ], check=True)\n",
    "\n",
    "    clean_files.append(os.path.join(output_folder, audio_file.blob_name))\n",
    "\n",
    "if clean_files:\n",
    "    uploaded_files = upload_files(output_container_client, clean_files)\n",
    "    print(f\"Uploaded {len(uploaded_files)} clean audio files to output container.\")\n",
    "\n",
    "shutil.rmtree(input_folder)\n",
    "shutil.rmtree(output_folder)\n",
    "\n",
    "print(\"Clean audio process completed.\")"
   ]
  }
 ],
 "metadata": {
  "language_info": {
   "name": "python"
  }
 },
 "nbformat": 4,
 "nbformat_minor": 5
}
