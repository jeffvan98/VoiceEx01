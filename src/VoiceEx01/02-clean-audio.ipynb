{
 "cells": [
  {
   "cell_type": "code",
   "execution_count": null,
   "id": "b171c143",
   "metadata": {},
   "outputs": [],
   "source": [
    "pip install git+https://github.com/facebookresearch/demucs"
   ]
  },
  {
   "cell_type": "markdown",
   "id": "467abeaf",
   "metadata": {},
   "source": [
    "1. Install required packages"
   ]
  },
  {
   "cell_type": "markdown",
   "id": "66df5a4e",
   "metadata": {},
   "source": [
    "%pip install librosa\n",
    "%pip install noisereduce\n",
    "%pip install soundfile"
   ]
  },
  {
   "cell_type": "code",
   "execution_count": null,
   "id": "080748cc",
   "metadata": {},
   "outputs": [],
   "source": [
    "from azure.storage.blob import BlobServiceClient\n",
    "import os\n",
    "import subprocess\n",
    "import shutil\n",
    "\n",
    "# === CONFIGURATION ===\n",
    "AZURE_STORAGE_CONNECTION_STRING = os.getenv(\"TBD\")\n",
    "input_container_name = os.getenv(\"TBD\")\n",
    "output_container_name = os.getenv(\"TBD\")\n",
    "\n",
    "# === SETUP BLOB CLIENTS ===\n",
    "blob_service_client = BlobServiceClient.from_connection_string(AZURE_STORAGE_CONNECTION_STRING)\n",
    "input_container = blob_service_client.get_container_client(input_container_name)\n",
    "output_container = blob_service_client.get_container_client(output_container_name)\n",
    "\n",
    "# === LOCAL FOLDERS ===\n",
    "TEMP_AUDIO_DIR = \"temp_audio\"\n",
    "DEMUC_OUTPUT_DIR = \"demucs_out\"\n",
    "os.makedirs(TEMP_AUDIO_DIR, exist_ok=True)\n",
    "\n",
    "# === PROCESS ALL .mp3 FILES ===\n",
    "for blob in input_container.list_blobs():\n",
    "    if blob.name.endswith(\".mp3\"):\n",
    "        print(f\"\\n▶️ Processing: {blob.name}\")\n",
    "        audio_blob_name = blob.name\n",
    "        local_audio_path = os.path.join(TEMP_AUDIO_DIR, os.path.basename(audio_blob_name))\n",
    "\n",
    "        # Download MP3 file\n",
    "        with open(local_audio_path, \"wb\") as download_file:\n",
    "            download_stream = input_container.download_blob(audio_blob_name)\n",
    "            download_file.write(download_stream.readall())\n",
    "\n",
    "        # Run Demucs on the MP3 file\n",
    "        subprocess.run([\n",
    "            \"demucs\",\n",
    "            \"--two-stems\", \"vocals\",  # Only extract vocals\n",
    "            \"--out\", DEMUC_OUTPUT_DIR,\n",
    "            local_audio_path\n",
    "        ], check=True)\n",
    "\n",
    "        # Extract path to Demucs-separated vocals\n",
    "        base_name = os.path.splitext(os.path.basename(audio_blob_name))[0]\n",
    "        vocals_path = os.path.join(DEMUC_OUTPUT_DIR, \"htdemucs\", base_name, \"vocals.wav\")\n",
    "\n",
    "        # Upload vocals to output container\n",
    "        output_blob_name = audio_blob_name.replace(\".mp3\", \"_clean.wav\")\n",
    "        with open(vocals_path, \"rb\") as data:\n",
    "            output_container.upload_blob(name=output_blob_name, data=data, overwrite=True)\n",
    "            print(f\"✅ Uploaded: {output_blob_name}\")\n",
    "\n",
    "        # Cleanup temp files\n",
    "        os.remove(local_audio_path)\n",
    "        shutil.rmtree(os.path.join(DEMUC_OUTPUT_DIR, \"htdemucs\", base_name), ignore_errors=True)\n",
    "\n",
    "print(\"\\n✅ All audio files cleaned and uploaded.\")\n"
   ]
  }
 ],
 "metadata": {
  "language_info": {
   "name": "python"
  }
 },
 "nbformat": 4,
 "nbformat_minor": 5
}
