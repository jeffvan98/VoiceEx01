{
 "cells": [
  {
   "cell_type": "markdown",
   "id": "7e78c81c",
   "metadata": {},
   "source": [
    "1. Install required packages"
   ]
  },
  {
   "cell_type": "code",
   "execution_count": null,
   "id": "1e2df947",
   "metadata": {},
   "outputs": [],
   "source": [
    "!pip install azure-storage-blob\n",
    "!apt-get update\n",
    "!apt-get install -y ffmpeg"
   ]
  },
  {
   "cell_type": "markdown",
   "id": "cc5fbb12",
   "metadata": {},
   "source": [
    "2. Set up Azure Blob storage client"
   ]
  },
  {
   "cell_type": "code",
   "execution_count": null,
   "id": "b53d4f5b",
   "metadata": {},
   "outputs": [],
   "source": [
    "from azure.storage.blob import BlobServiceClient, BlobClient, ContainerClient\n",
    "import os\n",
    "\n",
    "# Set your Azure Storage connection string (use a secret store or environment variable in real use)\n",
    "AZURE_STORAGE_CONNECTION_STRING = os.getenv(\"TBD\")\n",
    "\n",
    "# Define containers\n",
    "input_container_name = os.getenv(\"TBD\")\n",
    "output_container_name = os.getenv(\"TBD\")\n",
    "\n",
    "# Initialize blob service\n",
    "blob_service_client = BlobServiceClient.from_connection_string(AZURE_STORAGE_CONNECTION_STRING)\n",
    "input_container = blob_service_client.get_container_client(input_container_name)\n",
    "output_container = blob_service_client.get_container_client(output_container_name)"
   ]
  },
  {
   "cell_type": "markdown",
   "id": "c31fc48c",
   "metadata": {},
   "source": [
    "3. Process all mp4 files"
   ]
  },
  {
   "cell_type": "code",
   "execution_count": null,
   "id": "299d2d66",
   "metadata": {},
   "outputs": [],
   "source": [
    "import subprocess\n",
    "\n",
    "# Create local temp directory\n",
    "os.makedirs(\"temp\", exist_ok=True)\n",
    "\n",
    "for blob in input_container.list_blobs():\n",
    "    if blob.name.endswith(\".mp4\"):\n",
    "        video_blob_name = blob.name\n",
    "        local_video_path = os.path.join(\"temp\", os.path.basename(video_blob_name))\n",
    "        audio_output_name = video_blob_name.replace(\".mp4\", \".mp3\")\n",
    "        local_audio_path = os.path.join(\"temp\", os.path.basename(audio_output_name))\n",
    "\n",
    "        print(f\"Processing {video_blob_name}...\")\n",
    "\n",
    "        # Download video\n",
    "        with open(local_video_path, \"wb\") as download_file:\n",
    "            download_stream = input_container.download_blob(video_blob_name)\n",
    "            download_file.write(download_stream.readall())\n",
    "\n",
    "        # Extract audio using ffmpeg\n",
    "        subprocess.run([\"ffmpeg\", \"-i\", local_video_path, \"-q:a\", \"0\", \"-map\", \"a\", local_audio_path], check=True)\n",
    "\n",
    "        # Upload to raw-audio container\n",
    "        with open(local_audio_path, \"rb\") as data:\n",
    "            output_container.upload_blob(name=audio_output_name, data=data, overwrite=True)\n",
    "            print(f\"Uploaded {audio_output_name} to {output_container_name}\")\n",
    "\n",
    "        # Optional: Clean up temp files\n",
    "        os.remove(local_video_path)\n",
    "        os.remove(local_audio_path)\n",
    "\n",
    "print(\"✅ All .mp4 files processed.\")\n"
   ]
  }
 ],
 "metadata": {
  "language_info": {
   "name": "python"
  }
 },
 "nbformat": 4,
 "nbformat_minor": 5
}
