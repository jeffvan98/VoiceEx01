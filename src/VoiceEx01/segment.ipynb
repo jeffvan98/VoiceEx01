{
 "cells": [
  {
   "cell_type": "code",
   "execution_count": null,
   "id": "27f43202",
   "metadata": {},
   "outputs": [],
   "source": [
    "%pip install azure-storage-blob\n",
    "%pip install python-dotenv"
   ]
  },
  {
   "cell_type": "code",
   "execution_count": null,
   "id": "87f1dae5",
   "metadata": {},
   "outputs": [],
   "source": [
    "# \n",
    "# This Notebook requires the following environment variables (.env file):\n",
    "# \n",
    "\n",
    "# SEGMENT_AUDIO_INPUT_CONTAINER_SAS_URI=\n",
    "# SEGMENT_TEXT_INPUT_CONTAINER_SAS_URI=\n",
    "# SEGMENT_TEXT_INPUT_PATH=\n",
    "# SEGMENT_OUTPUT_CONTAINER_SAS_URI=\n"
   ]
  },
  {
   "cell_type": "code",
   "execution_count": null,
   "id": "8ed6545e",
   "metadata": {},
   "outputs": [],
   "source": [
    "import os\n",
    "from azure.storage.blob import ContainerClient\n",
    "\n",
    "from dotenv import load_dotenv\n",
    "load_dotenv()\n",
    "\n",
    "AUDIO_INPUT_CONTAINER_SAS_URI = os.getenv(\"SEGMENT_AUDIO_INPUT_CONTAINER_SAS_URI\")\n",
    "TEXT_INPUT_CONTAINER_SAS_URI = os.getenv(\"SEGMENT_TEXT_INPUT_CONTAINER_SAS_URI\")\n",
    "TEXT_INPUT_PATH = os.getenv(\"SEGMENT_TEXT_INPUT_PATH\")\n",
    "OUTPUT_CONTAINER_SAS_URI = os.getenv(\"SEGMENT_OUTPUT_CONTAINER_SAS_URI\")\n",
    "\n",
    "def get_container_client_from_sas(sas_uri):\n",
    "    \"\"\"Get a container client directly from a container SAS URI.\"\"\"\n",
    "    return ContainerClient.from_container_url(sas_uri)\n",
    "\n",
    "audio_input_container_client = get_container_client_from_sas(AUDIO_INPUT_CONTAINER_SAS_URI)\n",
    "text_input_container_client = get_container_client_from_sas(TEXT_INPUT_CONTAINER_SAS_URI)\n",
    "output_container_client = get_container_client_from_sas(OUTPUT_CONTAINER_SAS_URI)\n",
    "\n",
    "audio_folder = \"audio_downloads\"\n",
    "translation_folder = \"translation_downloads\"\n",
    "output_folder = \"segmented_audio\"\n",
    "\n",
    "os.makedirs(audio_folder, exist_ok=True)\n",
    "os.makedirs(translation_folder, exist_ok=True)\n",
    "os.makedirs(output_folder, exist_ok=True)\n"
   ]
  }
 ],
 "metadata": {
  "kernelspec": {
   "display_name": ".venv",
   "language": "python",
   "name": "python3"
  },
  "language_info": {
   "codemirror_mode": {
    "name": "ipython",
    "version": 3
   },
   "file_extension": ".py",
   "mimetype": "text/x-python",
   "name": "python",
   "nbconvert_exporter": "python",
   "pygments_lexer": "ipython3",
   "version": "3.10.11"
  }
 },
 "nbformat": 4,
 "nbformat_minor": 5
}
