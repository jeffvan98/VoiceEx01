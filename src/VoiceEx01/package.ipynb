{
 "cells": [
  {
   "cell_type": "code",
   "execution_count": null,
   "id": "a1eaa6c4",
   "metadata": {},
   "outputs": [],
   "source": [
    "# \n",
    "# This Notebook requires the following environment variables (.env file):\n",
    "# \n",
    "\n",
    "# PACKAGE_LOCAL_WORKING_DIR=\n",
    "# PACKAGE_INPUT_CONTAINER_SAS_URI=\n",
    "# PACKAGE_OUTPUT_CONTAINER_SAS_URI=\n"
   ]
  },
  {
   "cell_type": "code",
   "execution_count": null,
   "id": "aa32c304",
   "metadata": {},
   "outputs": [],
   "source": [
    "import os\n",
    "import uuid\n",
    "from azure.storage.blob import ContainerClient\n",
    "\n",
    "from dotenv import load_dotenv\n",
    "load_dotenv()\n",
    "\n",
    "PACKAGE_NAME = str(uuid.uuid4())\n",
    "LOCAL_WORKING_DIR = os.getenv(\"PACKAGE_LOCAL_WORKING_DIR\")\n",
    "INPUT_CONTAINER_SAS_URI = os.getenv(\"PACKAGE_INPUT_CONTAINER_SAS_URI\")\n",
    "OUTPUT_CONTAINER_SAS_URI = os.getenv(\"PACKAGE_OUTPUT_CONTAINER_SAS_URI\")\n",
    "\n",
    "def get_container_client_from_sas(sas_uri):\n",
    "    \"\"\"Get a container client directly from a container SAS URI.\"\"\"\n",
    "    return ContainerClient.from_container_url(sas_uri)\n",
    "\n",
    "#\n",
    "# Main\n",
    "#\n",
    "\n",
    "print(\"Starting packaging process for package: \", PACKAGE_NAME)\n",
    "\n",
    "input_container_client = get_container_client_from_sas(INPUT_CONTAINER_SAS_URI)\n",
    "output_container_client = get_container_client_from_sas(OUTPUT_CONTAINER_SAS_URI)\n",
    "\n"
   ]
  }
 ],
 "metadata": {
  "language_info": {
   "name": "python"
  }
 },
 "nbformat": 4,
 "nbformat_minor": 5
}
