{
 "cells": [
  {
   "cell_type": "code",
   "execution_count": null,
   "id": "e891815e",
   "metadata": {},
   "outputs": [],
   "source": [
    "import platform\n",
    "\n",
    "os_name = platform.system()\n",
    "if os_name == \"Windows\":\n",
    "    print(\"Please install ffmpeg manually on Windows.\")\n",
    "elif os_name == \"Linux\":\n",
    "    !apt update\n",
    "    !apt install ffmpeg -y\n",
    "else:\n",
    "    print(f\"Unsupported OS: {os_name}. Please install ffmpeg manually.\")"
   ]
  },
  {
   "cell_type": "code",
   "execution_count": null,
   "id": "ca3b6cd4",
   "metadata": {},
   "outputs": [],
   "source": [
    "%pip install -r requirements.txt"
   ]
  }
 ],
 "metadata": {
  "kernelspec": {
   "display_name": ".venv",
   "language": "python",
   "name": "python3"
  },
  "language_info": {
   "codemirror_mode": {
    "name": "ipython",
    "version": 3
   },
   "file_extension": ".py",
   "mimetype": "text/x-python",
   "name": "python",
   "nbconvert_exporter": "python",
   "pygments_lexer": "ipython3",
   "version": "3.10.11"
  }
 },
 "nbformat": 4,
 "nbformat_minor": 5
}
